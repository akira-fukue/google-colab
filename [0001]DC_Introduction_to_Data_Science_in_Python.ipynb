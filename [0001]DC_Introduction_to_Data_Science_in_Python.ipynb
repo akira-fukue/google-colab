{
  "nbformat": 4,
  "nbformat_minor": 0,
  "metadata": {
    "colab": {
      "name": "[0001]DC-Introduction_to_Data_Science_in_Python.ipynb",
      "provenance": [],
      "collapsed_sections": [],
      "authorship_tag": "ABX9TyPrsYZWogTTu8nOkrM2ILnE",
      "include_colab_link": true
    },
    "kernelspec": {
      "name": "python3",
      "display_name": "Python 3"
    }
  },
  "cells": [
    {
      "cell_type": "markdown",
      "metadata": {
        "id": "view-in-github",
        "colab_type": "text"
      },
      "source": [
        "<a href=\"https://colab.research.google.com/github/akira-fukue/google-colab/blob/master/%5B0001%5DDC_Introduction_to_Data_Science_in_Python.ipynb\" target=\"_parent\"><img src=\"https://colab.research.google.com/assets/colab-badge.svg\" alt=\"Open In Colab\"/></a>"
      ]
    },
    {
      "cell_type": "markdown",
      "metadata": {
        "id": "93QzweS5JH4n",
        "colab_type": "text"
      },
      "source": [
        "## Getting Started in Python"
      ]
    },
    {
      "cell_type": "code",
      "metadata": {
        "id": "_15x_3iGHSvL",
        "colab_type": "code",
        "colab": {}
      },
      "source": [
        "# CH 1\n",
        "# Podemos usar o import apenas\n",
        "import statsmodels\n",
        "\n",
        "# OU usar um ALIAS\n",
        "import statsmodels as sm\n",
        "import seaborn as sns\n",
        "\n",
        "# Criando variaveis\n",
        "name = \"Bayes\"\n",
        "height = 24\n",
        "weight = 75.5\n",
        "\n",
        "# Algumas regras e boas práticas\n",
        "# - Precisa iniciar com uma letra (Normalmente lower case)\n",
        "# - Depois da letra pode ser (letra / numero / underline)\n",
        "# - Sem espaços ou caracteres especiais\n",
        "# - Case sensitive (my_var != MY_VAR)\n",
        " bayes_age = 4.0\n",
        " print(bayes_age)\n",
        "\n",
        " "
      ],
      "execution_count": null,
      "outputs": []
    }
  ]
}