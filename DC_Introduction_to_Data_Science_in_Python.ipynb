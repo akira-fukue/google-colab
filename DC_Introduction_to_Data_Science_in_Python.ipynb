{
  "nbformat": 4,
  "nbformat_minor": 0,
  "metadata": {
    "colab": {
      "name": "DC-Introduction_to_Data_Science_in_Python.ipynb",
      "provenance": [],
      "authorship_tag": "ABX9TyNH1NL/l4n45WrWIWAGYB7Q",
      "include_colab_link": true
    },
    "kernelspec": {
      "name": "python3",
      "display_name": "Python 3"
    }
  },
  "cells": [
    {
      "cell_type": "markdown",
      "metadata": {
        "id": "view-in-github",
        "colab_type": "text"
      },
      "source": [
        "<a href=\"https://colab.research.google.com/github/akira-fukue/google-colab/blob/master/DC_Introduction_to_Data_Science_in_Python.ipynb\" target=\"_parent\"><img src=\"https://colab.research.google.com/assets/colab-badge.svg\" alt=\"Open In Colab\"/></a>"
      ]
    },
    {
      "cell_type": "markdown",
      "metadata": {
        "id": "93QzweS5JH4n",
        "colab_type": "text"
      },
      "source": [
        "## Getting Started in Python"
      ]
    },
    {
      "cell_type": "code",
      "metadata": {
        "id": "_15x_3iGHSvL",
        "colab_type": "code",
        "colab": {}
      },
      "source": [
        ""
      ],
      "execution_count": null,
      "outputs": []
    }
  ]
}